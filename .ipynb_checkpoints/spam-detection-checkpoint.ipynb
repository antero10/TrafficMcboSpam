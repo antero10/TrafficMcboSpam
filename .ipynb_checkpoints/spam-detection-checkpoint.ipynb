{
 "cells": [
  {
   "cell_type": "markdown",
   "metadata": {},
   "source": [
    "# Spam Detection"
   ]
  },
  {
   "cell_type": "code",
   "execution_count": 1,
   "metadata": {
    "collapsed": false
   },
   "outputs": [],
   "source": [
    "import pandas as pd\n",
    "import re\n",
    "import nltk\n",
    "from nltk.corpus import stopwords\n",
    "import nltk"
   ]
  },
  {
   "cell_type": "markdown",
   "metadata": {},
   "source": [
    "## Getting and Cleaning the data"
   ]
  },
  {
   "cell_type": "code",
   "execution_count": 51,
   "metadata": {
    "collapsed": false
   },
   "outputs": [],
   "source": [
    "# download the stopwords\n",
    "#nltk.download()"
   ]
  },
  {
   "cell_type": "code",
   "execution_count": 52,
   "metadata": {
    "collapsed": false
   },
   "outputs": [],
   "source": [
    "tweets = pd.read_csv('tweets.csv')"
   ]
  },
  {
   "cell_type": "code",
   "execution_count": 55,
   "metadata": {
    "collapsed": false
   },
   "outputs": [],
   "source": [
    "tweets['tweet'] = tweets['tweet'].apply(lambda x : x.encode('utf-8'))"
   ]
  },
  {
   "cell_type": "code",
   "execution_count": 56,
   "metadata": {
    "collapsed": false
   },
   "outputs": [
    {
     "name": "stdout",
     "output_type": "stream",
     "text": [
      "0    via @pmpg65:  @trafficLARA @PJGZLEZ la locura ...\n",
      "1    via @SotoKv:  @photojcg al parecer fuegos arti...\n",
      "2    via @PJGZLEZ: ellos se comen una torta de mas ...\n",
      "3    via @SobrePC:  bomba artificiales en el core 3...\n",
      "4    via @econ\\\\_carlos: Muerto no cumple años la v...\n",
      "Name: tweet, dtype: object\n"
     ]
    }
   ],
   "source": [
    "print tweets['tweet'].head()"
   ]
  },
  {
   "cell_type": "code",
   "execution_count": 57,
   "metadata": {
    "collapsed": false
   },
   "outputs": [],
   "source": [
    "#Remove word via from begining\n",
    "via_regex = \"^via\"\n",
    "tweets['tweet'] = tweets['tweet'].apply(lambda text : re.sub(via_regex,\"\",text))"
   ]
  },
  {
   "cell_type": "code",
   "execution_count": 58,
   "metadata": {
    "collapsed": false
   },
   "outputs": [
    {
     "name": "stdout",
     "output_type": "stream",
     "text": [
      " @pmpg65:  @trafficLARA @PJGZLEZ la locura y el miedo es libre http://t.co/xz31avg8bm #Maracaibo\n"
     ]
    }
   ],
   "source": [
    "print tweets.tweet[0]"
   ]
  },
  {
   "cell_type": "code",
   "execution_count": 59,
   "metadata": {
    "collapsed": false
   },
   "outputs": [
    {
     "name": "stdout",
     "output_type": "stream",
     "text": [
      "     la locura y el miedo es libre  \n"
     ]
    }
   ],
   "source": [
    "# Removing url's, mentions and hashtags\n",
    "clean_regex = \"(#|\\@|https?\\://)\\S+\" \n",
    "\n",
    "tweets['tweet'] = tweets['tweet'].apply(lambda text : re.sub(clean_regex,\"\",text))\n",
    "\n",
    "print tweets.tweet[0]"
   ]
  },
  {
   "cell_type": "code",
   "execution_count": 60,
   "metadata": {
    "collapsed": true
   },
   "outputs": [],
   "source": [
    "# To lower case\n",
    "tweets['tweet'] = tweets['tweet'].apply(lambda text : text.lower())"
   ]
  },
  {
   "cell_type": "code",
   "execution_count": 61,
   "metadata": {
    "collapsed": true
   },
   "outputs": [],
   "source": [
    "# letters only\n",
    "tweets['tweet'] = tweets['tweet'].apply(lambda text : re.sub(\"[^a-zA-Z]\",\" \",text))"
   ]
  },
  {
   "cell_type": "code",
   "execution_count": 62,
   "metadata": {
    "collapsed": false
   },
   "outputs": [],
   "source": [
    "stops = set(stopwords.words(\"spanish\"))\n",
    "tweets['tweet'] = tweets['tweet'].apply(lambda text : \" \".join([w for w in text.split() if not w in stops]))"
   ]
  },
  {
   "cell_type": "code",
   "execution_count": 63,
   "metadata": {
    "collapsed": false
   },
   "outputs": [
    {
     "name": "stdout",
     "output_type": "stream",
     "text": [
      "0                              lalocurayelmiedoeslibre\n",
      "1                        alparecerfuegosartificialesam\n",
      "2    ellossecomenunatortademasdemetrosenelcumpleaos...\n",
      "3    bombaartificialesenelcoreoenlaprimeradivisinpa...\n",
      "4    muertonocumpleaoslaverdadestagentecadadalosveo...\n",
      "Name: tweet, dtype: object\n"
     ]
    }
   ],
   "source": [
    "print tweets['tweet'].head()"
   ]
  },
  {
   "cell_type": "code",
   "execution_count": null,
   "metadata": {
    "collapsed": true
   },
   "outputs": [],
   "source": []
  }
 ],
 "metadata": {
  "kernelspec": {
   "display_name": "Python 2",
   "language": "python",
   "name": "python2"
  },
  "language_info": {
   "codemirror_mode": {
    "name": "ipython",
    "version": 2
   },
   "file_extension": ".py",
   "mimetype": "text/x-python",
   "name": "python",
   "nbconvert_exporter": "python",
   "pygments_lexer": "ipython2",
   "version": "2.7.9"
  }
 },
 "nbformat": 4,
 "nbformat_minor": 0
}
